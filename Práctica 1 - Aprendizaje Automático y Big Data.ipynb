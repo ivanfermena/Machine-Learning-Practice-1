{
 "cells": [
  {
   "cell_type": "markdown",
   "metadata": {},
   "source": [
    "# Parte 1 : Regresión lineal con una variable"
   ]
  },
  {
   "cell_type": "markdown",
   "metadata": {},
   "source": [
    "## 1.1 Carga de dataset de una csv"
   ]
  },
  {
   "cell_type": "code",
   "execution_count": 14,
   "metadata": {},
   "outputs": [],
   "source": [
    "from pandas.io.parsers import read_csv\n",
    "import numpy as np"
   ]
  },
  {
   "cell_type": "code",
   "execution_count": 2,
   "metadata": {},
   "outputs": [],
   "source": [
    "def load_csv(filename):\n",
    "    values = read_csv(filename, header=None).values\n",
    "    return values.astype(float)"
   ]
  },
  {
   "cell_type": "code",
   "execution_count": 3,
   "metadata": {},
   "outputs": [],
   "source": [
    "dataset = load_csv('./datasets/ex1data1.csv')"
   ]
  },
  {
   "cell_type": "code",
   "execution_count": 4,
   "metadata": {},
   "outputs": [],
   "source": [
    "independent_data = dataset[:,0]\n",
    "dependent_data = dataset[:,1]"
   ]
  },
  {
   "cell_type": "code",
   "execution_count": 7,
   "metadata": {},
   "outputs": [
    {
     "data": {
      "text/plain": [
       "Text(0.5,0,'Poblacion')"
      ]
     },
     "execution_count": 7,
     "metadata": {},
     "output_type": "execute_result"
    },
    {
     "data": {
      "image/png": "[encoded data removed]",
      "text/plain": [
       "<Figure size 432x288 with 1 Axes>"
      ]
     },
     "metadata": {},
     "output_type": "display_data"
    }
   ],
   "source": [
    "import matplotlib.pyplot as plt\n",
    "\n",
    "plt.plot(independent_data, dependent_data, 'rx')\n",
    "plt.ylabel('Ingresos')\n",
    "plt.xlabel('Poblacion')"
   ]
  },
  {
   "cell_type": "code",
   "execution_count": null,
   "metadata": {},
   "outputs": [],
   "source": [
    "# Implementacion de la funcion de hipotesis de la regresion lineal \n",
    "def hyphotesis_function(th0, th1, x):\n",
    "    return th0 + th1*x"
   ]
  },
  {
   "cell_type": "code",
   "execution_count": 9,
   "metadata": {},
   "outputs": [],
   "source": [
    "# Implementacion de la funcion de coste de la regresion lineal J(th0,th1)\n",
    "def cost_function(fun, th0, th1, m, x, y):\n",
    "    sum_squared_error = 0\n",
    "    for i in range(0, m):\n",
    "        sum_error_squared += (fun(th0, th1, x[i]) - y[i])**2\n",
    "    mean_squared_error = sum_error_squared / (2*m)\n",
    "    return mean_error_squared"
   ]
  },
  {
   "cell_type": "code",
   "execution_count": 16,
   "metadata": {},
   "outputs": [],
   "source": [
    "def gradient_descent(fun, th, lr, m, x, y):\n",
    "    for i in range(0, 1500):\n",
    "        new_th0 = th0 - (lr/m)*np.sum([fun(th0, th1, x[j]) - y[j] for j in range(0, m)])\n",
    "        new_th1 = th1 - (lr/m)*np.sum([((fun(th0, th1, x[j]) - y[j])*x[j]) for j in range(0, m)])\n",
    "        th0 = new_th0\n",
    "        th1 = new_th1\n",
    "        print('It: {}, MSE: {}'.format(i, cost_function(fun, th0, th1, m, x, y)))\n",
    "    "
   ]
  },
  {
   "cell_type": "code",
   "execution_count": null,
   "metadata": {},
   "outputs": [],
   "source": [
    "th0 = 1\n",
    "th1 = 1\n",
    "lr = 0.01"
   ]
  },
  {
   "cell_type": "code",
   "execution_count": null,
   "metadata": {},
   "outputs": [],
   "source": []
  },
  {
   "cell_type": "code",
   "execution_count": null,
   "metadata": {},
   "outputs": [],
   "source": [
    "plt.plot(independent_data, hyphotesis_function(th0, th1, independent_data))"
   ]
  }
 ],
 "metadata": {
  "kernelspec": {
   "display_name": "Python 3",
   "language": "python",
   "name": "python3"
  },
  "language_info": {
   "codemirror_mode": {
    "name": "ipython",
    "version": 3
   },
   "file_extension": ".py",
   "mimetype": "text/x-python",
   "name": "python",
   "nbconvert_exporter": "python",
   "pygments_lexer": "ipython3",
   "version": "3.6.5"
  }
 },
 "nbformat": 4,
 "nbformat_minor": 2
}
